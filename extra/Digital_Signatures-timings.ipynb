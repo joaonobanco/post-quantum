{
 "cells": [
  {
   "cell_type": "code",
   "execution_count": 8,
   "id": "4fa85c7c-3bdb-4e61-8482-8c80dd9dae27",
   "metadata": {
    "tags": []
   },
   "outputs": [],
   "source": [
    "import oqs\n",
    "\n",
    "from Crypto.PublicKey import ECC, RSA\n",
    "from Crypto.Signature import eddsa, pkcs1_15, pss\n",
    "from Crypto.Hash import SHA256\n",
    "from Crypto import Random\n",
    "\n",
    "import time"
   ]
  },
  {
   "cell_type": "code",
   "execution_count": 3,
   "id": "8d1af539-dbb8-4bda-b29e-b54efb6eff18",
   "metadata": {
    "tags": []
   },
   "outputs": [
    {
     "name": "stdout",
     "output_type": "stream",
     "text": [
      "['Dilithium2', 'Dilithium3', 'Dilithium5', 'Dilithium2-AES', 'Dilithium3-AES', 'Dilithium5-AES', 'Falcon-512', 'Falcon-1024', 'SPHINCS+-Haraka-128f-robust', 'SPHINCS+-Haraka-128f-simple', 'SPHINCS+-Haraka-128s-robust', 'SPHINCS+-Haraka-128s-simple', 'SPHINCS+-Haraka-192f-robust', 'SPHINCS+-Haraka-192f-simple', 'SPHINCS+-Haraka-192s-robust', 'SPHINCS+-Haraka-192s-simple', 'SPHINCS+-Haraka-256f-robust', 'SPHINCS+-Haraka-256f-simple', 'SPHINCS+-Haraka-256s-robust', 'SPHINCS+-Haraka-256s-simple', 'SPHINCS+-SHA256-128f-robust', 'SPHINCS+-SHA256-128f-simple', 'SPHINCS+-SHA256-128s-robust', 'SPHINCS+-SHA256-128s-simple', 'SPHINCS+-SHA256-192f-robust', 'SPHINCS+-SHA256-192f-simple', 'SPHINCS+-SHA256-192s-robust', 'SPHINCS+-SHA256-192s-simple', 'SPHINCS+-SHA256-256f-robust', 'SPHINCS+-SHA256-256f-simple', 'SPHINCS+-SHA256-256s-robust', 'SPHINCS+-SHA256-256s-simple', 'SPHINCS+-SHAKE256-128f-robust', 'SPHINCS+-SHAKE256-128f-simple', 'SPHINCS+-SHAKE256-128s-robust', 'SPHINCS+-SHAKE256-128s-simple', 'SPHINCS+-SHAKE256-192f-robust', 'SPHINCS+-SHAKE256-192f-simple', 'SPHINCS+-SHAKE256-192s-robust', 'SPHINCS+-SHAKE256-192s-simple', 'SPHINCS+-SHAKE256-256f-robust', 'SPHINCS+-SHAKE256-256f-simple', 'SPHINCS+-SHAKE256-256s-robust', 'SPHINCS+-SHAKE256-256s-simple']\n"
     ]
    }
   ],
   "source": [
    "sigs = oqs.get_enabled_sig_mechanisms()\n",
    "print(sigs)"
   ]
  },
  {
   "cell_type": "code",
   "execution_count": 4,
   "id": "ab13c567-caf9-4b53-a126-5d1be7e1e82a",
   "metadata": {
    "tags": []
   },
   "outputs": [],
   "source": [
    "message = \"This is the message to sign\".encode()"
   ]
  },
  {
   "cell_type": "code",
   "execution_count": 5,
   "id": "c526f2b6-9e37-432d-9cab-33c819ea64a6",
   "metadata": {
    "tags": []
   },
   "outputs": [
    {
     "name": "stdout",
     "output_type": "stream",
     "text": [
      "alg = Dilithium5, sig = 0.0029164240004320163, ver = 0.0019425369991949992\n",
      "alg = Falcon-512, sig = 0.04546533499888028, ver = 0.013169304000257398\n",
      "alg = SPHINCS+-Haraka-128f-robust, sig = 0.04452717999993183, ver = 0.0031609269990440225\n"
     ]
    }
   ],
   "source": [
    "sigalgs = [\"Dilithium5\", \"Falcon-512\", \"SPHINCS+-Haraka-128f-robust\"]\n",
    "\n",
    "for sigalg in sigalgs:\n",
    "    \n",
    "    time_sig = []\n",
    "    time_ver = []\n",
    "\n",
    "    reps = 1\n",
    "\n",
    "    with oqs.Signature(sigalg) as signer:\n",
    "        #print(\"\\nSignature details:\")\n",
    "        #print(signer.details)\n",
    "        \n",
    "        signer_public_key = signer.generate_keypair()\n",
    "\n",
    "\n",
    "        with oqs.Signature(sigalg) as verifier:\n",
    "\n",
    "            for i in range(0,reps,1):\n",
    "                tic = time.perf_counter()\n",
    "                signature = signer.sign(message)\n",
    "                toc = time.perf_counter()\n",
    "                time_sig.append(toc - tic)\n",
    "        \n",
    "            time_sig = min(time_sig)\n",
    "        \n",
    "            for i in range(0,reps,1):\n",
    "                tic = time.perf_counter()\n",
    "                is_valid = verifier.verify(message, signature, signer_public_key)\n",
    "                toc = time.perf_counter()\n",
    "                time_ver.append(toc - tic)\n",
    "            \n",
    "            time_ver = min(time_ver)\n",
    "        \n",
    "    print(f\"alg = {sigalg}, sig = {time_sig}, ver = {time_ver}\")"
   ]
  },
  {
   "cell_type": "code",
   "execution_count": 6,
   "id": "3bb6ce5e-a09d-4c0a-85f4-4fade3d16b19",
   "metadata": {
    "tags": []
   },
   "outputs": [
    {
     "name": "stdout",
     "output_type": "stream",
     "text": [
      "alg = Ed25519, sig = 0.006256904000110808, ver = 0.019731589000002714\n",
      "alg = Ed448, sig = 0.026511571000810363, ver = 0.06664308800100116\n"
     ]
    }
   ],
   "source": [
    "sigalgs = [\"Ed25519\", \"Ed448\"]\n",
    "\n",
    "for sigalg in sigalgs:\n",
    "    \n",
    "    time_sig = []\n",
    "    time_ver = []\n",
    "\n",
    "    reps = 1\n",
    "    \n",
    "    key = ECC.generate(curve = sigalg)\n",
    "\n",
    "    signer = eddsa.new(key, \"rfc8032\")\n",
    "                \n",
    "    for i in range(0,reps,1):\n",
    "        tic = time.perf_counter()\n",
    "        signature = signer.sign(message)\n",
    "        toc = time.perf_counter()\n",
    "        time_sig.append(toc - tic)\n",
    "        \n",
    "    time_sig = min(time_sig)\n",
    "        \n",
    "    for i in range(0,reps,1):\n",
    "        tic = time.perf_counter()\n",
    "        is_valid = signer.verify(message, signature)\n",
    "        toc = time.perf_counter()\n",
    "        time_ver.append(toc - tic)\n",
    "            \n",
    "    time_ver = min(time_ver)\n",
    "        \n",
    "    print(f\"alg = {sigalg}, sig = {time_sig}, ver = {time_ver}\")"
   ]
  },
  {
   "cell_type": "code",
   "execution_count": 9,
   "id": "30cd446d-7adf-4793-ac68-74ad4958bfb1",
   "metadata": {
    "tags": []
   },
   "outputs": [
    {
     "name": "stdout",
     "output_type": "stream",
     "text": [
      "alg = RSA-PKCS, sig = 0.005641208999804803, ver = 0.0016602680007054005\n"
     ]
    }
   ],
   "source": [
    "sigalgs = [\"RSA-PKCS\"]\n",
    "\n",
    "for sigalg in sigalgs:\n",
    "    \n",
    "    time_sig = []\n",
    "    time_ver = []\n",
    "\n",
    "    reps = 1\n",
    "    \n",
    "    key = RSA.generate(1024)\n",
    "    h = SHA256.new(message)\n",
    "\n",
    "    signer = pkcs1_15.new(key)\n",
    "                \n",
    "    for i in range(0,reps,1):\n",
    "        tic = time.perf_counter()\n",
    "        signature = signer.sign(h)\n",
    "        toc = time.perf_counter()\n",
    "        time_sig.append(toc - tic)\n",
    "        \n",
    "    time_sig = min(time_sig)\n",
    "        \n",
    "    for i in range(0,reps,1):\n",
    "        tic = time.perf_counter()\n",
    "        is_valid = signer.verify(h, signature)\n",
    "        toc = time.perf_counter()\n",
    "        time_ver.append(toc - tic)\n",
    "            \n",
    "    time_ver = min(time_ver)\n",
    "        \n",
    "    print(f\"alg = {sigalg}, sig = {time_sig}, ver = {time_ver}\")"
   ]
  },
  {
   "cell_type": "code",
   "execution_count": null,
   "id": "007132c3-3817-4650-a2e7-dfed90a4c4ca",
   "metadata": {},
   "outputs": [],
   "source": []
  }
 ],
 "metadata": {
  "kernelspec": {
   "display_name": "Python 3",
   "language": "python",
   "name": "python3"
  },
  "language_info": {
   "codemirror_mode": {
    "name": "ipython",
    "version": 3
   },
   "file_extension": ".py",
   "mimetype": "text/x-python",
   "name": "python",
   "nbconvert_exporter": "python",
   "pygments_lexer": "ipython3",
   "version": "3.10.9"
  }
 },
 "nbformat": 4,
 "nbformat_minor": 5
}
