{
 "cells": [
  {
   "cell_type": "code",
   "execution_count": 1,
   "id": "4fa85c7c-3bdb-4e61-8482-8c80dd9dae27",
   "metadata": {
    "tags": []
   },
   "outputs": [],
   "source": [
    "import oqs\n",
    "\n",
    "from Crypto.PublicKey import ECC, RSA\n",
    "from Crypto.Signature import eddsa, pkcs1_15, pss\n",
    "from Crypto.Hash import SHA256\n",
    "from Crypto.Cipher import AES, PKCS1_OAEP\n",
    "from Crypto import Random\n",
    "from Crypto.Random import get_random_bytes\n",
    "\n",
    "from numpy import mean\n",
    "\n",
    "from tabulate import tabulate\n",
    "\n",
    "import time"
   ]
  },
  {
   "cell_type": "code",
   "execution_count": 2,
   "id": "8d1af539-dbb8-4bda-b29e-b54efb6eff18",
   "metadata": {
    "tags": []
   },
   "outputs": [
    {
     "name": "stdout",
     "output_type": "stream",
     "text": [
      "['BIKE-L1', 'BIKE-L3', 'Classic-McEliece-348864', 'Classic-McEliece-348864f', 'Classic-McEliece-460896', 'Classic-McEliece-460896f', 'Classic-McEliece-6688128', 'Classic-McEliece-6688128f', 'Classic-McEliece-6960119', 'Classic-McEliece-6960119f', 'Classic-McEliece-8192128', 'Classic-McEliece-8192128f', 'HQC-128', 'HQC-192', 'HQC-256', 'Kyber512', 'Kyber768', 'Kyber1024', 'Kyber512-90s', 'Kyber768-90s', 'Kyber1024-90s', 'ntrulpr653', 'ntrulpr761', 'ntrulpr857', 'ntrulpr1277', 'sntrup653', 'sntrup761', 'sntrup857', 'sntrup1277', 'FrodoKEM-640-AES', 'FrodoKEM-640-SHAKE', 'FrodoKEM-976-AES', 'FrodoKEM-976-SHAKE', 'FrodoKEM-1344-AES', 'FrodoKEM-1344-SHAKE']\n"
     ]
    }
   ],
   "source": [
    "kems = oqs.get_enabled_KEM_mechanisms()\n",
    "print(kems)"
   ]
  },
  {
   "cell_type": "code",
   "execution_count": 3,
   "id": "23d256c4-902f-498e-8a67-8cb27127489b",
   "metadata": {
    "tags": []
   },
   "outputs": [],
   "source": [
    "time_all = []"
   ]
  },
  {
   "cell_type": "code",
   "execution_count": 4,
   "id": "c526f2b6-9e37-432d-9cab-33c819ea64a6",
   "metadata": {
    "tags": []
   },
   "outputs": [
    {
     "name": "stdout",
     "output_type": "stream",
     "text": [
      "alg = Kyber512, sig = 0.0003749827701540198, ver = 0.0005363655499604647\n",
      "alg = BIKE-L1, sig = 0.0010247205500490963, ver = 0.01513207271000283\n"
     ]
    }
   ],
   "source": [
    "kemalgs = [\"Kyber512\", \"BIKE-L1\"]\n",
    "\n",
    "for kemalg in kemalgs:\n",
    "    \n",
    "    time_enc = []\n",
    "    time_dec = []\n",
    "\n",
    "    reps = 100\n",
    "\n",
    "    with oqs.KeyEncapsulation(kemalg) as client:\n",
    "        #print(\"\\nKey encapsulation details:\")\n",
    "        #print(client.details)\n",
    "        \n",
    "        client_public_key = client.generate_keypair()\n",
    "\n",
    "        with oqs.KeyEncapsulation(kemalg) as server:\n",
    "\n",
    "            for i in range(0,reps,1):\n",
    "                tic = time.perf_counter()\n",
    "                ciphertext, shared_secret_server = server.encap_secret(client_public_key)\n",
    "                toc = time.perf_counter()\n",
    "                time_enc.append(toc - tic)\n",
    "        \n",
    "            time_enc = mean(time_enc)\n",
    "        \n",
    "            for i in range(0,reps,1):\n",
    "                tic = time.perf_counter()\n",
    "                shared_secret_client = client.decap_secret(ciphertext)\n",
    "                toc = time.perf_counter()\n",
    "                time_dec.append(toc - tic)\n",
    "            \n",
    "            time_dec = mean(time_dec)\n",
    "    \n",
    "    time_all.append([kemalg, time_enc, time_dec])\n",
    "    print(f\"alg = {kemalg}, sig = {time_enc}, ver = {time_dec}\")"
   ]
  },
  {
   "cell_type": "code",
   "execution_count": 5,
   "id": "30cd446d-7adf-4793-ac68-74ad4958bfb1",
   "metadata": {
    "tags": []
   },
   "outputs": [
    {
     "name": "stdout",
     "output_type": "stream",
     "text": [
      "alg = RSA-PKCS, sig = 0.0021085112502987613, ver = 0.0065564135799650106\n"
     ]
    }
   ],
   "source": [
    "kemalgs = [\"RSA-PKCS\"]\n",
    "\n",
    "for kemalg in kemalgs:\n",
    "    \n",
    "    time_enc = []\n",
    "    time_dec = []\n",
    "\n",
    "    reps = 100\n",
    "    \n",
    "    recipient_key = RSA.generate(1024)\n",
    "    session_key = get_random_bytes(16)\n",
    "    \n",
    "    cipher_rsa = PKCS1_OAEP.new(recipient_key)\n",
    "                \n",
    "    for i in range(0,reps,1):\n",
    "        tic = time.perf_counter()\n",
    "        enc_session_key = cipher_rsa.encrypt(session_key)\n",
    "        toc = time.perf_counter()\n",
    "        time_enc.append(toc - tic)\n",
    "        \n",
    "    time_enc = mean(time_enc)\n",
    "        \n",
    "    for i in range(0,reps,1):\n",
    "        tic = time.perf_counter()\n",
    "        dec_session_key = cipher_rsa.decrypt(enc_session_key)\n",
    "        toc = time.perf_counter()\n",
    "        time_dec.append(toc - tic)\n",
    "            \n",
    "    time_dec = mean(time_dec)\n",
    "        \n",
    "    time_all.append([kemalg, time_enc, time_dec])\n",
    "    print(f\"alg = {kemalg}, sig = {time_enc}, ver = {time_dec}\")"
   ]
  },
  {
   "cell_type": "code",
   "execution_count": 6,
   "id": "007132c3-3817-4650-a2e7-dfed90a4c4ca",
   "metadata": {
    "tags": []
   },
   "outputs": [
    {
     "name": "stdout",
     "output_type": "stream",
     "text": [
      "Algs           Encaps       Decaps\n",
      "--------  -----------  -----------\n",
      "Kyber512  0.000374983  0.000536366\n",
      "BIKE-L1   0.00102472   0.0151321\n",
      "RSA-PKCS  0.00210851   0.00655641\n"
     ]
    }
   ],
   "source": [
    "print(tabulate(time_all, headers = [\"Algs\", \"Encaps\", \"Decaps\"]))"
   ]
  },
  {
   "cell_type": "code",
   "execution_count": null,
   "id": "7d4737c3-f8a7-460f-8d0f-4c34cdd8fccf",
   "metadata": {},
   "outputs": [],
   "source": []
  }
 ],
 "metadata": {
  "kernelspec": {
   "display_name": "Python 3",
   "language": "python",
   "name": "python3"
  },
  "language_info": {
   "codemirror_mode": {
    "name": "ipython",
    "version": 3
   },
   "file_extension": ".py",
   "mimetype": "text/x-python",
   "name": "python",
   "nbconvert_exporter": "python",
   "pygments_lexer": "ipython3",
   "version": "3.10.9"
  }
 },
 "nbformat": 4,
 "nbformat_minor": 5
}
